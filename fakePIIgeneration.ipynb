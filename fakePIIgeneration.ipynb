{
 "cells": [
  {
   "cell_type": "code",
   "execution_count": 2,
   "id": "ab2ddaee-76f4-48c6-8d32-4b2bce542b3a",
   "metadata": {},
   "outputs": [],
   "source": [
    "from faker import Faker\n",
    "import pandas as pd\n",
    "import random\n",
    "\n",
    "fake = Faker()\n",
    "#load and clean\n",
    "data = pd.read_csv(\"mtsamples.csv\")\n",
    "data_cleaned = data.dropna(subset=['transcription'])\n",
    "\n",
    "# generating systhetic pii(only doing name,dob,address,phone-number)\n",
    "def generate_pii():\n",
    "    return {\n",
    "        \"name\": fake.name(),\n",
    "        \"dob\": fake.date_of_birth(minimum_age=18, maximum_age=90).strftime(\"%Y-%m-%d\"),\n",
    "        \"address\": fake.address().replace(\"\\n\", \", \"),\n",
    "        \"phone\": fake.phone_number()\n",
    "    }\n",
    "\n",
    "# new column with pii+transcriptions\n",
    "pii_texts = []\n",
    "for i, row in data_cleaned.iterrows():\n",
    "    pii = generate_pii()\n",
    "    pii_header = f\"Patient Name: {pii['name']}\\nDOB: {pii['dob']}\\nAddress: {pii['address']}\\nPhone: {pii['phone']}\\n\"\n",
    "    pii_text = pii_header + row[\"transcription\"]\n",
    "    pii_texts.append(pii_text)\n",
    "\n",
    "with open(\"transcriptions_with_pii.txt\", \"w\", encoding=\"utf-8\") as f:\n",
    "    for line in pii_texts:\n",
    "        f.write(line + \"\\n---\\n\")  # using this seperator which will come handy during chunking(instead of chunking by charachter this time will chunk per transcription to keep the pii intact)\n"
   ]
  },
  {
   "cell_type": "code",
   "execution_count": null,
   "id": "ea4fd54d-9b02-4d0e-9e6a-5d48038d90f3",
   "metadata": {},
   "outputs": [],
   "source": []
  }
 ],
 "metadata": {
  "kernelspec": {
   "display_name": "Python 3 (ipykernel)",
   "language": "python",
   "name": "python3"
  },
  "language_info": {
   "codemirror_mode": {
    "name": "ipython",
    "version": 3
   },
   "file_extension": ".py",
   "mimetype": "text/x-python",
   "name": "python",
   "nbconvert_exporter": "python",
   "pygments_lexer": "ipython3",
   "version": "3.12.7"
  }
 },
 "nbformat": 4,
 "nbformat_minor": 5
}
